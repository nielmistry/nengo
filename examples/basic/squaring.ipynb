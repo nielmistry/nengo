{
 "cells": [
  {
   "cell_type": "markdown",
   "metadata": {},
   "source": [
    "# Squaring the input\n",
    "\n",
    "This demo shows you how to construct a network\n",
    "that squares the value encoded in a first population\n",
    "in the output of a second population."
   ]
  },
  {
   "cell_type": "code",
   "execution_count": 1,
   "metadata": {
    "execution": {
     "iopub.execute_input": "2021-12-15T17:44:44.532524Z",
     "iopub.status.busy": "2021-12-15T17:44:44.531740Z",
     "iopub.status.idle": "2021-12-15T17:44:45.520747Z",
     "shell.execute_reply": "2021-12-15T17:44:45.521189Z"
    }
   },
   "outputs": [],
   "source": [
    "%matplotlib inline\n",
    "import matplotlib.pyplot as plt\n",
    "import numpy as np\n",
    "\n",
    "import nengo"
   ]
  },
  {
   "cell_type": "markdown",
   "metadata": {},
   "source": [
    "## Step 1: Create the Model\n",
    "\n",
    "The model is comprised of an input ensemble ('A')\n",
    "and an output ensemble ('B'),\n",
    "from which the squared value of the input signal can be decoded."
   ]
  },
  {
   "cell_type": "code",
   "execution_count": 2,
   "metadata": {
    "execution": {
     "iopub.execute_input": "2021-12-15T17:44:45.528016Z",
     "iopub.status.busy": "2021-12-15T17:44:45.527099Z",
     "iopub.status.idle": "2021-12-15T17:44:45.528876Z",
     "shell.execute_reply": "2021-12-15T17:44:45.529285Z"
    }
   },
   "outputs": [],
   "source": [
    "# Create the model object\n",
    "model = nengo.Network(label=\"Squaring\")\n",
    "with model:\n",
    "    # Create two ensembles of 100 leaky-integrate-and-fire neurons\n",
    "    A = nengo.Ensemble(100, dimensions=1)\n",
    "    B = nengo.Ensemble(100, dimensions=1)"
   ]
  },
  {
   "cell_type": "markdown",
   "metadata": {},
   "source": [
    "## Step 2: Provide Input to the Model\n",
    "\n",
    "A single input signal (a sine wave) will be used\n",
    "to drive the neural activity in ensemble A."
   ]
  },
  {
   "cell_type": "code",
   "execution_count": 3,
   "metadata": {
    "execution": {
     "iopub.execute_input": "2021-12-15T17:44:45.535863Z",
     "iopub.status.busy": "2021-12-15T17:44:45.531858Z",
     "iopub.status.idle": "2021-12-15T17:44:45.537716Z",
     "shell.execute_reply": "2021-12-15T17:44:45.538106Z"
    }
   },
   "outputs": [],
   "source": [
    "with model:\n",
    "    # Create an input node that represents a sine wave\n",
    "    sin = nengo.Node(np.sin)\n",
    "\n",
    "    # Connect the input node to ensemble A\n",
    "    nengo.Connection(sin, A)\n",
    "\n",
    "    # Define the squaring function\n",
    "    def square(x):\n",
    "        return x[0] * x[0]\n",
    "\n",
    "    # Connection ensemble A to ensemble B\n",
    "    nengo.Connection(A, B, function=square)"
   ]
  },
  {
   "cell_type": "markdown",
   "metadata": {},
   "source": [
    "## Step 3: Probe the Output\n",
    "\n",
    "Let's collect output data from each ensemble and output."
   ]
  },
  {
   "cell_type": "code",
   "execution_count": 4,
   "metadata": {
    "execution": {
     "iopub.execute_input": "2021-12-15T17:44:45.544975Z",
     "iopub.status.busy": "2021-12-15T17:44:45.543431Z",
     "iopub.status.idle": "2021-12-15T17:44:45.545538Z",
     "shell.execute_reply": "2021-12-15T17:44:45.545931Z"
    }
   },
   "outputs": [],
   "source": [
    "with model:\n",
    "    sin_probe = nengo.Probe(sin)\n",
    "    A_probe = nengo.Probe(A, synapse=0.01)\n",
    "    B_probe = nengo.Probe(B, synapse=0.01)"
   ]
  },
  {
   "cell_type": "markdown",
   "metadata": {},
   "source": [
    "## Step 4: Run the Model"
   ]
  },
  {
   "cell_type": "code",
   "execution_count": 5,
   "metadata": {
    "execution": {
     "iopub.execute_input": "2021-12-15T17:44:45.552341Z",
     "iopub.status.busy": "2021-12-15T17:44:45.551422Z",
     "iopub.status.idle": "2021-12-15T17:44:46.538827Z",
     "shell.execute_reply": "2021-12-15T17:44:46.538280Z"
    }
   },
   "outputs": [],
   "source": [
    "# Create the simulator\n",
    "with nengo.Simulator(model) as sim:\n",
    "    # Run the simulator for 5 seconds\n",
    "    sim.run(5)"
   ]
  },
  {
   "cell_type": "code",
   "execution_count": 6,
   "metadata": {
    "execution": {
     "iopub.execute_input": "2021-12-15T17:44:46.546565Z",
     "iopub.status.busy": "2021-12-15T17:44:46.545201Z",
     "iopub.status.idle": "2021-12-15T17:44:46.809542Z",
     "shell.execute_reply": "2021-12-15T17:44:46.809954Z"
    }
   },
   "outputs": [
    {
     "data": {
      "text/plain": [
       "(-1.2, 1.2)"
      ]
     },
     "execution_count": 6,
     "metadata": {},
     "output_type": "execute_result"
    },
    {
     "data": {
      "image/png": "[encoded data removed]",
      "text/plain": [
       "<Figure size 432x288 with 1 Axes>"
      ]
     },
     "metadata": {
      "needs_background": "light"
     },
     "output_type": "display_data"
    }
   ],
   "source": [
    "# Plot the input signal and decoded ensemble values\n",
    "plt.figure()\n",
    "plt.plot(sim.trange(), sim.data[A_probe], label=\"Decoded Ensemble A\")\n",
    "plt.plot(sim.trange(), sim.data[B_probe], label=\"Decoded Ensemble B\")\n",
    "plt.plot(\n",
    "    sim.trange(), sim.data[sin_probe], label=\"Input Sine Wave\", color=\"k\", linewidth=2.0\n",
    ")\n",
    "plt.legend(loc=\"best\")\n",
    "plt.ylim(-1.2, 1.2)"
   ]
  },
  {
   "cell_type": "markdown",
   "metadata": {},
   "source": [
    "The plotted output of ensemble B should show\n",
    "the decoded squared value of the input sine wave."
   ]
  }
 ],
 "metadata": {
  "language_info": {
   "codemirror_mode": {
    "name": "ipython",
    "version": 3
   },
   "file_extension": ".py",
   "mimetype": "text/x-python",
   "name": "python",
   "nbconvert_exporter": "python",
   "pygments_lexer": "ipython3",
   "version": "3.7.1"
  }
 },
 "nbformat": 4,
 "nbformat_minor": 2
}
